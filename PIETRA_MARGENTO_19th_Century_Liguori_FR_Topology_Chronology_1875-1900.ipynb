{
 "cells": [
  {
   "cell_type": "code",
   "execution_count": 1,
   "id": "9abe376d",
   "metadata": {},
   "outputs": [],
   "source": [
    "import pandas as pd\n",
    "import networkx as nx\n",
    "import itertools"
   ]
  },
  {
   "cell_type": "code",
   "execution_count": 2,
   "id": "e99d5e03",
   "metadata": {},
   "outputs": [],
   "source": [
    "\n",
    "file_path = 'Liguori_translations_FR_normalized_publishers_translators_places.xlsx'\n",
    "df = pd.read_excel(file_path)"
   ]
  },
  {
   "cell_type": "code",
   "execution_count": 3,
   "id": "340e6843",
   "metadata": {},
   "outputs": [],
   "source": [
    "import math"
   ]
  },
  {
   "cell_type": "code",
   "execution_count": null,
   "id": "27a0fe5e",
   "metadata": {},
   "outputs": [],
   "source": []
  },
  {
   "cell_type": "code",
   "execution_count": 4,
   "id": "4dfb7be4",
   "metadata": {},
   "outputs": [],
   "source": [
    "\n",
    "G_1876_1900 = nx.MultiDiGraph()\n",
    "\n",
    "# Function to extract and sort years chronologically\n",
    "# For this period we had to tweak the function so that in cases of subsequent editions entered as\n",
    "# e.g., 1868-1892 it extracts in this case all years between 1876 and 1915\n",
    "def extract_years(row, cutoff_year0, cutoff_year1):\n",
    "    year = row['First ed.']\n",
    "    subsequent = row['Subsq. ed.']\n",
    "    \n",
    "    all_years = []\n",
    "    \n",
    "    # Check and add 'First ed.' year if within the interval\n",
    "    if not math.isnan(year) and cutoff_year0 < int(year) <= cutoff_year1:\n",
    "        all_years.append(int(year))\n",
    "    \n",
    "    # Process 'Subsq. ed.' column\n",
    "    if isinstance(subsequent, str):\n",
    "        subsequent_years = []\n",
    "        for entry in subsequent.split(','):\n",
    "            entry = entry.strip()\n",
    "            if '-' in entry:  # Detect ranges like '1868-1892'\n",
    "                try:\n",
    "                    start, end = map(int, entry.split('-'))\n",
    "                    # Add years within the range that fit the cutoff\n",
    "                    subsequent_years.extend(\n",
    "                        year for year in range(start, end + 1)\n",
    "                        if cutoff_year0 < year <= cutoff_year1\n",
    "                    )\n",
    "                except ValueError:\n",
    "                    # Handle malformed ranges gracefully\n",
    "                    continue\n",
    "            else:  # Single year entry\n",
    "                try:\n",
    "                    year = int(entry.split()[0])  # Extract year from single entry\n",
    "                    if cutoff_year0 < year <= cutoff_year1:\n",
    "                        subsequent_years.append(year)\n",
    "                except ValueError:\n",
    "                    continue\n",
    "        \n",
    "        all_years.extend(subsequent_years)\n",
    "    \n",
    "    # Sort the final list of years\n",
    "    all_years = sorted(all_years)\n",
    "    \n",
    "    return all_years\n",
    "\n",
    "\n",
    "\n",
    "def is_valid_year(x):\n",
    "    try:\n",
    "        year_int = int(x)\n",
    "        return 1875 < year_int and year_int <= 1915\n",
    "    except ValueError:\n",
    "        return False\n",
    "    \n",
    "\n",
    "filtered_df = df[df['First ed.'].apply(lambda x: x if not (math.isnan(x) or not is_valid_year(x)) else None).notna()]\n",
    "\n",
    "unique_publishers = set()\n",
    "\n",
    "for publishers in filtered_df['Normalized Publisher']:\n",
    "    if isinstance(publishers, str):\n",
    "        unique_publishers.update([publisher.strip() for publisher in publishers.split(';')])\n",
    "    else:\n",
    "        unique_publishers.update([publishers])\n",
    "\n",
    "for publisher in unique_publishers:\n",
    "    G_1876_1900.add_node(publisher, publications=[])\n",
    "    \n",
    "\n",
    "for index, row in filtered_df.iterrows():\n",
    "    title = row['Title']\n",
    "    years = extract_years(row, 1875, 1915)\n",
    "    editions = sum(1 for year in years) if years != [] else 0  # Calculate number of editions based on years after 1875 through to 1900 (including exceptions that span the early 20th century)\n",
    "    publishers = [publisher.strip() for publisher in row['Normalized Publisher'].split('; ')] if isinstance(row['Normalized Publisher'], str) else [row['Normalized Publisher']]\n",
    "    translator = row['Normalized Translator']\n",
    "    places = [place.strip() for place in row['Publ. place'].split('; ')] if isinstance(row['Publ. place'], str) else [str(row['Publ. place']).strip()]\n",
    "\n",
    "    for publisher in unique_publishers:\n",
    "        if publisher in publishers:\n",
    "            G_1876_1900.nodes[publisher]['publications'].append({\n",
    "                'title': title,\n",
    "                'years': years,\n",
    "                'editions': [editions],\n",
    "                'publisher': publishers,\n",
    "                'translator': translator,\n",
    "                'place': places\n",
    "            })\n",
    "\n",
    "\n",
    "for publisher in G_1876_1900.nodes():\n",
    "    if 'publications' in G_1876_1900.nodes[publisher]:  # Check if 'publications' key exists\n",
    "        magnitude = sum(pub['editions'][0] for pub in G_1876_1900.nodes[publisher]['publications'])\n",
    "        G_1876_1900.nodes[publisher]['magnitude'] = magnitude"
   ]
  },
  {
   "cell_type": "code",
   "execution_count": 11,
   "id": "af36815b",
   "metadata": {},
   "outputs": [
    {
     "data": {
      "text/plain": [
       "62"
      ]
     },
     "execution_count": 11,
     "metadata": {},
     "output_type": "execute_result"
    }
   ],
   "source": [
    "len(G_1850_75.nodes) # 1850-75"
   ]
  },
  {
   "cell_type": "code",
   "execution_count": 5,
   "id": "25797505",
   "metadata": {},
   "outputs": [
    {
     "data": {
      "text/plain": [
       "43"
      ]
     },
     "execution_count": 5,
     "metadata": {},
     "output_type": "execute_result"
    }
   ],
   "source": [
    "len(G_1876_1900.nodes)"
   ]
  },
  {
   "cell_type": "code",
   "execution_count": 7,
   "id": "9e395b6b",
   "metadata": {},
   "outputs": [
    {
     "name": "stdout",
     "output_type": "stream",
     "text": [
      "Publisher: casterman, Size: 30\n",
      "Publisher: desclee, Size: 12\n",
      "Publisher: saintaugustin, Size: 9\n",
      "Publisher: gaume, Size: 8\n",
      "Publisher: ardant, Size: 7\n",
      "Publisher: de brouwer, Size: 7\n",
      "Publisher: librairie internationale catholique, Size: 6\n",
      "Publisher: zech, Size: 6\n",
      "Publisher: jean evang, Size: 5\n",
      "Publisher: nan, Size: 5\n",
      "Publisher: barbou, Size: 4\n",
      "Publisher: pouy, Size: 4\n",
      "Publisher: kittler, Size: 3\n",
      "Publisher: lethielleux, Size: 3\n",
      "Publisher: pontificaux, Size: 3\n",
      "Publisher: mame, Size: 3\n",
      "Publisher: rittler, Size: 3\n",
      "Publisher: lefebvre, Size: 3\n",
      "Publisher: briguet, Size: 3\n",
      "Publisher: librairie de loeuvre de saintpaul, Size: 3\n",
      "Publisher: bourguetcalas, Size: 2\n",
      "Publisher: delhomme, Size: 2\n",
      "Publisher: maison des pères rédemptoristes, Size: 2\n",
      "Publisher: saintpaul, Size: 2\n",
      "Publisher: vivs, Size: 1\n",
      "Publisher: mersch, Size: 1\n",
      "Publisher: cattier, Size: 1\n",
      "Publisher: leday, Size: 1\n",
      "Publisher: prunet, Size: 1\n",
      "Publisher: decallonneliagre, Size: 1\n",
      "Publisher: demers, Size: 1\n",
      "Publisher: lecoffre, Size: 1\n",
      "Publisher: tablissements de brepols, Size: 1\n",
      "Publisher: aux bureaux de la sainte famille, Size: 1\n",
      "Publisher: descleee, Size: 1\n",
      "Publisher: beauchesne, Size: 1\n",
      "Publisher: maitre, Size: 1\n",
      "Publisher: bray, Size: 1\n",
      "Publisher: douniol, Size: 1\n",
      "Publisher: le chevallier, Size: 1\n",
      "Publisher: poussielgue, Size: 1\n",
      "Publisher: bellet, Size: 1\n",
      "Publisher: lefevbre, Size: 1\n"
     ]
    }
   ],
   "source": [
    "\n",
    "nodes_with_sizes = [(publisher, data['magnitude']) for publisher, data in G_1876_1900.nodes(data=True) if 'magnitude' in data]\n",
    "\n",
    "sorted_nodes = sorted(nodes_with_sizes, key=lambda x: x[1], reverse=True)\n",
    "\n",
    "for publisher, size in sorted_nodes:\n",
    "    print(f\"Publisher: {publisher}, Size: {size}\")"
   ]
  },
  {
   "cell_type": "code",
   "execution_count": null,
   "id": "396bb191",
   "metadata": {},
   "outputs": [],
   "source": [
    "\n"
   ]
  },
  {
   "cell_type": "code",
   "execution_count": 6,
   "id": "f0953b9f",
   "metadata": {},
   "outputs": [],
   "source": [
    "\n",
    "def add_edge_with_attributes(G, publisher_A, publisher_B, title, source_years, target_years,\n",
    "                             source_translator, target_translator, source_num_editions,\n",
    "                             target_num_editions, source_place, target_place, weight, relation, key):\n",
    "    G.add_edge(publisher_A, publisher_B, title=title, source_years=source_years, target_years=target_years,\n",
    "               source_translator=source_translator, target_translator=target_translator,\n",
    "               source_num_editions=source_num_editions, target_num_editions=target_num_editions,\n",
    "               source_place=source_place, target_place=target_place, weight=weight, relation=relation, key=key)"
   ]
  },
  {
   "cell_type": "code",
   "execution_count": 7,
   "id": "9862ca31",
   "metadata": {},
   "outputs": [],
   "source": [
    "existing_edges = set()\n",
    "\n",
    "# Function to add edges between publishers with support for multiple edges of the same type\n",
    "def add_edges_between_publishers(G):\n",
    "    for pub_A, pub_B in itertools.combinations(G.nodes, 2):  # Iterate over pairs of nodes\n",
    "        publications_A = G.nodes[pub_A]['publications']\n",
    "        publications_B = G.nodes[pub_B]['publications']\n",
    "        \n",
    "        # Compare all publications between two publishers\n",
    "        for publication_A in publications_A:\n",
    "            for publication_B in publications_B:\n",
    "                title_A, title_B = publication_A['title'], publication_B['title']\n",
    "                years_A, years_B = publication_A['years'], publication_B['years']\n",
    "                editions_A, editions_B = publication_A['editions'], publication_B['editions']\n",
    "                translators_A, translators_B = publication_A['translator'], publication_B['translator']\n",
    "                publishers_A, publishers_B = set(publication_A['publisher']), set(publication_B['publisher'])\n",
    "                \n",
    "                # Ensure translators_A and translators_B are lists\n",
    "                translators_A = translators_A if isinstance(translators_A, list) else []\n",
    "                translators_B = translators_B if isinstance(translators_B, list) else []\n",
    "\n",
    "                \n",
    "                # Initialize edge counters\n",
    "                edge_counter = 0\n",
    "\n",
    "                # Check for copublication\n",
    "                if (len(publishers_A) == 1 & len(publishers_B) == 1) and title_A == title_B and set(years_A) == set(years_B):\n",
    "                    # Create a unique edge key\n",
    "                    edge_counter = sum(1 for key in existing_edges if f\"copub_{pub_A}_{pub_B}_\" in key) + 1\n",
    "                    edge_key = f\"copub_{pub_A}_{pub_B}_{title_A}_{edge_counter}\"\n",
    "\n",
    "                    # Check if the edge already exists\n",
    "                    if edge_key not in existing_edges:\n",
    "                        weight = max(editions_A[0], editions_B[0])\n",
    "                        add_edge_with_attributes(\n",
    "                            G, pub_A, pub_B, title_A, years_A, years_B, translators_A, translators_B,\n",
    "                            editions_A, editions_B, publication_A['place'], publication_B['place'],\n",
    "                            weight, 'copublication', edge_key\n",
    "                        )\n",
    "                        existing_edges.add(edge_key)\n",
    "\n",
    "                # Check for reprint relation\n",
    "                if set(translators_A) == set(translators_B) and title_A == title_B and years_A and years_B:\n",
    "                    if len(years_A) > 0 and len(years_B) > 0:\n",
    "                        if years_A[0] < years_B[0] and publishers_A != publishers_B:\n",
    "                            edge_counter += 1\n",
    "                            edge_key = f\"reprint_{pub_A}_{pub_B}_{title_A}_{edge_counter}\"\n",
    "\n",
    "                            # Check if the edge already exists\n",
    "                            if edge_key not in existing_edges:\n",
    "                                weight = editions_B[0]\n",
    "                                add_edge_with_attributes(\n",
    "                                    G, pub_A, pub_B, title_A, years_A, years_B, translators_A, translators_B,\n",
    "                                    editions_A, editions_B, publication_A['place'], publication_B['place'],\n",
    "                                    weight, 'reprint', edge_key\n",
    "                                )\n",
    "                                existing_edges.add(edge_key)\n",
    "\n",
    "                # Check for retranslation relation\n",
    "                if set(translators_A) != set(translators_B) and title_A == title_B and years_A and years_B:\n",
    "                    if len(years_A) > 0 and len(years_B) > 0:\n",
    "                        if years_A[0] < years_B[0] and publishers_A != publishers_B:\n",
    "                            edge_counter += 1\n",
    "                            edge_key = f\"retrans_{pub_A}_{pub_B}_{title_A}_{edge_counter}\"\n",
    "\n",
    "                            # Check if the edge already exists\n",
    "                            if edge_key not in existing_edges:\n",
    "                                weight = editions_B[0]\n",
    "                                add_edge_with_attributes(\n",
    "                                    G, pub_A, pub_B, title_A, years_A, years_B, translators_A, translators_B,\n",
    "                                    editions_A, editions_B, publication_A['place'], publication_B['place'],\n",
    "                                    weight, 'retranslation', edge_key\n",
    "                                )\n",
    "                                existing_edges.add(edge_key)"
   ]
  },
  {
   "cell_type": "code",
   "execution_count": 8,
   "id": "c6482a15",
   "metadata": {},
   "outputs": [],
   "source": [
    "\n",
    "add_edges_between_publishers(G_1876_1900)"
   ]
  },
  {
   "cell_type": "code",
   "execution_count": 11,
   "id": "8d191e1e",
   "metadata": {},
   "outputs": [
    {
     "data": {
      "text/plain": [
       "272"
      ]
     },
     "execution_count": 11,
     "metadata": {},
     "output_type": "execute_result"
    }
   ],
   "source": [
    "len(G_1839_50.edges)"
   ]
  },
  {
   "cell_type": "code",
   "execution_count": 16,
   "id": "ff1cf0ac",
   "metadata": {},
   "outputs": [
    {
     "data": {
      "text/plain": [
       "276"
      ]
     },
     "execution_count": 16,
     "metadata": {},
     "output_type": "execute_result"
    }
   ],
   "source": [
    "len(G_1850_75.edges)"
   ]
  },
  {
   "cell_type": "code",
   "execution_count": 9,
   "id": "461a2456",
   "metadata": {},
   "outputs": [
    {
     "data": {
      "text/plain": [
       "55"
      ]
     },
     "execution_count": 9,
     "metadata": {},
     "output_type": "execute_result"
    }
   ],
   "source": [
    "len(G_1876_1900.edges)"
   ]
  },
  {
   "cell_type": "code",
   "execution_count": 52,
   "id": "66add4ff",
   "metadata": {},
   "outputs": [
    {
     "data": {
      "text/plain": [
       "471"
      ]
     },
     "execution_count": 52,
     "metadata": {},
     "output_type": "execute_result"
    }
   ],
   "source": [
    "len(existing_edges) # G_thru_1825"
   ]
  },
  {
   "cell_type": "code",
   "execution_count": 16,
   "id": "f2f0479e",
   "metadata": {},
   "outputs": [
    {
     "data": {
      "text/plain": [
       "550"
      ]
     },
     "execution_count": 16,
     "metadata": {},
     "output_type": "execute_result"
    }
   ],
   "source": [
    "len(existing_edges) # G_1826_38"
   ]
  },
  {
   "cell_type": "code",
   "execution_count": 12,
   "id": "35ec1260",
   "metadata": {},
   "outputs": [
    {
     "data": {
      "text/plain": [
       "272"
      ]
     },
     "execution_count": 12,
     "metadata": {},
     "output_type": "execute_result"
    }
   ],
   "source": [
    "len(existing_edges) # G_1839_50"
   ]
  },
  {
   "cell_type": "code",
   "execution_count": 17,
   "id": "ba7f50f3",
   "metadata": {},
   "outputs": [
    {
     "data": {
      "text/plain": [
       "276"
      ]
     },
     "execution_count": 17,
     "metadata": {},
     "output_type": "execute_result"
    }
   ],
   "source": [
    "len(existing_edges) # G_1850_75"
   ]
  },
  {
   "cell_type": "code",
   "execution_count": 29,
   "id": "2063a852",
   "metadata": {},
   "outputs": [
    {
     "data": {
      "text/plain": [
       "103"
      ]
     },
     "execution_count": 29,
     "metadata": {},
     "output_type": "execute_result"
    }
   ],
   "source": [
    "len(existing_edges) # G_1876_1900"
   ]
  },
  {
   "cell_type": "code",
   "execution_count": 15,
   "id": "125d3724",
   "metadata": {},
   "outputs": [],
   "source": [
    "\n",
    "for title, first_ed, subsq_ed, edition, publisher, translator, place in zip(\n",
    "        filtered_df['Title'],\n",
    "        filtered_df['First ed.'],\n",
    "        filtered_df['Subsq. ed.'],\n",
    "        filtered_df['Editions'],\n",
    "        filtered_df['Normalized Publisher'],\n",
    "        filtered_df['Normalized Translator'],\n",
    "        filtered_df['Publ. place']\n",
    "    ):\n",
    "    \n",
    "    publisher_list = [pub.strip() for pub in str(publisher).split(';') if pub.strip()]\n",
    "    \n",
    "    translator_list = [trans.strip() for trans in str(translator).split(';') if trans.strip()]\n",
    "    \n",
    "    place_list = [pl.strip() for pl in str(place).split(';') if pl.strip()]\n",
    "    \n",
    "    if len(publisher_list) > 1:\n",
    "        \n",
    "        for pub_A, pub_B in itertools.combinations(publisher_list, 2):\n",
    "            # Assign a weight based on editions\n",
    "            weight = max(edition, edition)\n",
    "            # Generate a unique edge key for each copublication instance\n",
    "            edge_counter = sum(1 for key in existing_edges if f\"copub_{pub_A}_{pub_B}_\" in key) + 1\n",
    "            edge_key = f\"copub_{pub_A}_{pub_B}_{title}_{edge_counter}\"\n",
    "\n",
    "            # Check if the edge already exists\n",
    "            if edge_key not in existing_edges:\n",
    "                add_edge_with_attributes(\n",
    "                    G_1876_1900, pub_A, pub_B, title, [first_ed, subsq_ed], [first_ed, subsq_ed], translator_list, translator_list,\n",
    "                    [edition], [edition], place_list, place_list, weight, 'copublication', edge_key\n",
    "                )\n",
    "                existing_edges.add(edge_key)\n"
   ]
  },
  {
   "cell_type": "code",
   "execution_count": 16,
   "id": "bc0ae0b4",
   "metadata": {},
   "outputs": [
    {
     "name": "stdout",
     "output_type": "stream",
     "text": [
      "Nodes ordered by outgoing degree:\n",
      "jean evang 18\n",
      "casterman 15\n",
      "desclee 15\n",
      "barbou 10\n",
      "saintaugustin 9\n",
      "cattier 5\n",
      "gaume 5\n",
      "librairie internationale catholique 4\n",
      "lecoffre 4\n",
      "delhomme 3\n",
      "leday 2\n",
      "bray 2\n",
      "lefebvre 2\n",
      "descleee 2\n",
      "mame 2\n",
      "lefevbre 1\n",
      "lethielleux 1\n",
      "librairie de loeuvre de saintpaul 1\n",
      "pouy 1\n",
      "de brouwer 1\n",
      "mersch 0\n",
      "prunet 0\n",
      "ardant 0\n",
      "maison des pères rédemptoristes 0\n",
      "vivs 0\n",
      "poussielgue 0\n",
      "demers 0\n",
      "nan 0\n",
      "kittler 0\n",
      "briguet 0\n",
      "douniol 0\n",
      "le chevallier 0\n",
      "decallonneliagre 0\n",
      "tablissements de brepols 0\n",
      "bellet 0\n",
      "saintpaul 0\n",
      "beauchesne 0\n",
      "rittler 0\n",
      "aux bureaux de la sainte famille 0\n",
      "bourguetcalas 0\n",
      "pontificaux 0\n",
      "zech 0\n",
      "maitre 0\n",
      "\n",
      "Nodes ordered by incoming degree:\n",
      "desclee 12\n",
      "lefebvre 11\n",
      "de brouwer 11\n",
      "zech 10\n",
      "maitre 10\n",
      "mame 7\n",
      "kittler 5\n",
      "librairie internationale catholique 4\n",
      "briguet 4\n",
      "saintaugustin 3\n",
      "gaume 3\n",
      "le chevallier 3\n",
      "leday 2\n",
      "cattier 2\n",
      "lefevbre 2\n",
      "tablissements de brepols 2\n",
      "librairie de loeuvre de saintpaul 2\n",
      "rittler 2\n",
      "barbou 1\n",
      "casterman 1\n",
      "nan 1\n",
      "descleee 1\n",
      "lecoffre 1\n",
      "saintpaul 1\n",
      "aux bureaux de la sainte famille 1\n",
      "pontificaux 1\n",
      "mersch 0\n",
      "jean evang 0\n",
      "prunet 0\n",
      "ardant 0\n",
      "maison des pères rédemptoristes 0\n",
      "vivs 0\n",
      "bray 0\n",
      "poussielgue 0\n",
      "delhomme 0\n",
      "demers 0\n",
      "lethielleux 0\n",
      "douniol 0\n",
      "decallonneliagre 0\n",
      "bellet 0\n",
      "pouy 0\n",
      "beauchesne 0\n",
      "bourguetcalas 0\n",
      "\n",
      "Nodes ordered by overall degree:\n",
      "desclee 27\n",
      "jean evang 18\n",
      "casterman 16\n",
      "lefebvre 13\n",
      "saintaugustin 12\n",
      "de brouwer 12\n",
      "barbou 11\n",
      "zech 10\n",
      "maitre 10\n",
      "mame 9\n",
      "librairie internationale catholique 8\n",
      "gaume 8\n",
      "cattier 7\n",
      "kittler 5\n",
      "lecoffre 5\n",
      "leday 4\n",
      "briguet 4\n",
      "delhomme 3\n",
      "lefevbre 3\n",
      "descleee 3\n",
      "le chevallier 3\n",
      "librairie de loeuvre de saintpaul 3\n",
      "bray 2\n",
      "tablissements de brepols 2\n",
      "rittler 2\n",
      "nan 1\n",
      "lethielleux 1\n",
      "saintpaul 1\n",
      "pouy 1\n",
      "aux bureaux de la sainte famille 1\n",
      "pontificaux 1\n",
      "mersch 0\n",
      "prunet 0\n",
      "ardant 0\n",
      "maison des pères rédemptoristes 0\n",
      "vivs 0\n",
      "poussielgue 0\n",
      "demers 0\n",
      "douniol 0\n",
      "decallonneliagre 0\n",
      "bellet 0\n",
      "beauchesne 0\n",
      "bourguetcalas 0\n"
     ]
    }
   ],
   "source": [
    "\n",
    "out_degrees = dict(G_1876_1900.out_degree())\n",
    "in_degrees = dict(G_1876_1900.in_degree())\n",
    "overall_degrees = {node: out_degrees.get(node, 0) + in_degrees.get(node, 0) for node in G_1876_1900.nodes()}\n",
    "\n",
    "nodes_by_out_degree = sorted(out_degrees, key=out_degrees.get, reverse=True)\n",
    "nodes_by_in_degree = sorted(in_degrees, key=in_degrees.get, reverse=True)\n",
    "nodes_by_overall_degree = sorted(overall_degrees, key=overall_degrees.get, reverse=True)\n",
    "\n",
    "print(\"Nodes ordered by outgoing degree:\")\n",
    "for node in nodes_by_out_degree:\n",
    "    print(node, out_degrees[node])\n",
    "\n",
    "print(\"\\nNodes ordered by incoming degree:\")\n",
    "for node in nodes_by_in_degree:\n",
    "    print(node, in_degrees[node])\n",
    "\n",
    "print(\"\\nNodes ordered by overall degree:\")\n",
    "for node in nodes_by_overall_degree:\n",
    "    print(node, overall_degrees[node])"
   ]
  },
  {
   "cell_type": "code",
   "execution_count": 17,
   "id": "68557dcf",
   "metadata": {},
   "outputs": [
    {
     "name": "stdout",
     "output_type": "stream",
     "text": [
      "Outgoing Weighted Degrees: {'casterman': 239, 'librairie internationale catholique': 115, 'desclee': 23, 'jean evang': 18, 'saintaugustin': 15, 'barbou': 10, 'cattier': 5, 'gaume': 5, 'de brouwer': 5, 'lecoffre': 4, 'delhomme': 3, 'leday': 2, 'bray': 2, 'lefebvre': 2, 'descleee': 2, 'mame': 2, 'lefevbre': 1, 'lethielleux': 1, 'librairie de loeuvre de saintpaul': 1, 'pouy': 1, 'mersch': 0, 'prunet': 0, 'ardant': 0, 'maison des pères rédemptoristes': 0, 'vivs': 0, 'poussielgue': 0, 'demers': 0, nan: 0, 'kittler': 0, 'briguet': 0, 'douniol': 0, 'le chevallier': 0, 'decallonneliagre': 0, 'tablissements de brepols': 0, 'bellet': 0, 'saintpaul': 0, 'beauchesne': 0, 'rittler': 0, 'aux bureaux de la sainte famille': 0, 'bourguetcalas': 0, 'pontificaux': 0, 'zech': 0, 'maitre': 0}\n",
      "Incoming Weighted Degrees: {'rittler': 210, 'librairie internationale catholique': 115, 'kittler': 19, 'desclee': 17, 'saintaugustin': 14, 'de brouwer': 13, 'lefebvre': 11, 'zech': 10, 'maitre': 10, 'mame': 7, 'briguet': 4, 'gaume': 3, 'le chevallier': 3, 'pontificaux': 3, 'leday': 2, 'cattier': 2, 'lefevbre': 2, 'tablissements de brepols': 2, 'librairie de loeuvre de saintpaul': 2, 'barbou': 1, 'casterman': 1, 'descleee': 1, 'lecoffre': 1, 'saintpaul': 1, 'aux bureaux de la sainte famille': 1, 'mersch': 0, 'jean evang': 0, 'prunet': 0, 'ardant': 0, 'maison des pères rédemptoristes': 0, 'vivs': 0, 'bray': 0, 'poussielgue': 0, 'delhomme': 0, 'demers': 0, nan: 0, 'lethielleux': 0, 'douniol': 0, 'decallonneliagre': 0, 'bellet': 0, 'pouy': 0, 'beauchesne': 0, 'bourguetcalas': 0}\n",
      "Overall Weighted Degrees: {'casterman': 240, 'librairie internationale catholique': 230, 'rittler': 210, 'desclee': 40, 'saintaugustin': 29, 'kittler': 19, 'jean evang': 18, 'de brouwer': 18, 'lefebvre': 13, 'barbou': 11, 'zech': 10, 'maitre': 10, 'mame': 9, 'gaume': 8, 'cattier': 7, 'lecoffre': 5, 'leday': 4, 'briguet': 4, 'delhomme': 3, 'lefevbre': 3, 'descleee': 3, 'le chevallier': 3, 'librairie de loeuvre de saintpaul': 3, 'pontificaux': 3, 'bray': 2, 'tablissements de brepols': 2, 'lethielleux': 1, 'saintpaul': 1, 'pouy': 1, 'aux bureaux de la sainte famille': 1, 'mersch': 0, 'prunet': 0, 'ardant': 0, 'maison des pères rédemptoristes': 0, 'vivs': 0, 'poussielgue': 0, 'demers': 0, nan: 0, 'douniol': 0, 'decallonneliagre': 0, 'bellet': 0, 'beauchesne': 0, 'bourguetcalas': 0}\n"
     ]
    }
   ],
   "source": [
    "\n",
    "\n",
    "weights = []\n",
    "\n",
    "outgoing_weighted_degrees = {}\n",
    "incoming_weighted_degrees = {}\n",
    "overall_weighted_degrees = {}\n",
    "\n",
    "for node in G_1876_1900.nodes():\n",
    "    successors = []\n",
    "    for node_id in G_1876_1900.successors(node):\n",
    "        successors.append(node_id)\n",
    "    weights = []\n",
    "    for u, v, key, attr in G_1876_1900.edges(keys=True, data=True):\n",
    "        if (u in successors and v == node) or (u == node and v in successors):\n",
    "            weight = attr['weight']\n",
    "            #weights.append(sum(weight))\n",
    "            weights.append(weight)\n",
    "    #outgoing_weight = sum(sum(G11.edges[node, neighbor]['weight']) for neighbor in G11.successors(node))\n",
    "    outgoing_weighted_degrees[node] = sum(weights)\n",
    "\n",
    "for node in G_1876_1900.nodes():\n",
    "    predecessors = []\n",
    "    for node_id in G_1876_1900.predecessors(node):\n",
    "        predecessors.append(node_id)\n",
    "    weights = []\n",
    "    for u, v, key, attr in G_1876_1900.edges(keys=True, data=True):\n",
    "        if (u in predecessors and v == node) or (u == node and v in predecessors):\n",
    "            weight = attr['weight']\n",
    "            # weights.append(sum(weight))\n",
    "            weights.append(weight)\n",
    "    #incoming_weight = sum(sum(G11.edges[neighbor, node]['weight']) for neighbor in G11.predecessors(node))\n",
    "    incoming_weighted_degrees[node] = sum(weights)\n",
    "\n",
    "for node in G_1876_1900.nodes():\n",
    "    overall_weighted_degree = outgoing_weighted_degrees.get(node, 0) + incoming_weighted_degrees.get(node, 0)\n",
    "    overall_weighted_degrees[node] = overall_weighted_degree\n",
    "\n",
    "sorted_outgoing_weighted_degrees = dict(sorted(outgoing_weighted_degrees.items(), key=lambda item: item[1], reverse=True))\n",
    "sorted_incoming_weighted_degrees = dict(sorted(incoming_weighted_degrees.items(), key=lambda item: item[1], reverse=True))\n",
    "sorted_overall_weighted_degrees = dict(sorted(overall_weighted_degrees.items(), key=lambda item: item[1], reverse=True))\n",
    "\n",
    "print(\"Outgoing Weighted Degrees:\", sorted_outgoing_weighted_degrees)\n",
    "print(\"Incoming Weighted Degrees:\", sorted_incoming_weighted_degrees)\n",
    "print(\"Overall Weighted Degrees:\", sorted_overall_weighted_degrees)"
   ]
  },
  {
   "cell_type": "code",
   "execution_count": 18,
   "id": "9ff41c30",
   "metadata": {},
   "outputs": [
    {
     "name": "stdout",
     "output_type": "stream",
     "text": [
      "Sorted Source Places: [('Tournai', 46), ('Paris', 29), ('Bruges', 11), ('Limoges', 10), ('Leipzig', 9), ('Tours', 5), ('Lille', 4), ('nan', 3), ('Lyon et Paris', 2), ('unknown', 2), ('Bruxelles', 1), ('de Brouwer', 1), ('Fontainebleau', 1)]\n",
      "Sorted Target Places: [('Tournai', 35), ('Paris', 30), ('Leipzig', 11), ('Bruges', 10), ('Braine-le-Comte', 10), ('Dijon', 10), ('Lille', 4), ('Nancy', 3), ('nan', 3), ('Turnhout', 2), ('Tours', 2), ('Lyon et Paris', 2), ('Limoges', 1), ('unknown', 1), ('Bruxelles', 1), ('de Brouwer', 1), ('Fribourg', 1), ('Antony (Seine)', 1)]\n",
      "Sorted Overall Places: [('Tournai', 81), ('Paris', 59), ('Bruges', 21), ('Leipzig', 20), ('Limoges', 11), ('Braine-le-Comte', 10), ('Dijon', 10), ('Lille', 8), ('Tours', 7), ('nan', 6), ('Lyon et Paris', 4), ('Nancy', 3), ('unknown', 3), ('Turnhout', 2), ('Bruxelles', 2), ('de Brouwer', 2), ('Fribourg', 1), ('Fontainebleau', 1), ('Antony (Seine)', 1)]\n"
     ]
    }
   ],
   "source": [
    "\n",
    "from collections import Counter\n",
    "\n",
    "\n",
    "source_place_counter = Counter()\n",
    "target_place_counter = Counter()\n",
    "overall_place_counter = Counter()\n",
    "\n",
    "\n",
    "for publisher_A, publisher_B, data in G_1876_1900.edges(data=True):\n",
    "    if isinstance(data['source_place'], list):\n",
    "        source_places = data['source_place']\n",
    "    else:\n",
    "        source_places = [data['source_place']]\n",
    "    if isinstance(data['target_place'], list):\n",
    "        target_places = data['target_place']\n",
    "    else:\n",
    "        target_places = [data['target_place']]\n",
    "\n",
    "    \n",
    "    for i, place_list in enumerate(source_places):\n",
    "        if isinstance(place_list, str):\n",
    "            source_places[i] = [place_list]\n",
    "    \n",
    "    for i, place_list in enumerate(target_places):\n",
    "        if isinstance(place_list, str):\n",
    "            #place_list = [place_list]\n",
    "            target_places[i] = [place_list]\n",
    "            \n",
    "    for place_list in source_places:\n",
    "        for place in place_list:\n",
    "            source_place_counter[place] += 1\n",
    "            \n",
    "    for place_list in target_places:\n",
    "        for place in place_list:\n",
    "            target_place_counter[place] += 1\n",
    "    \n",
    "    for place_list in source_places + target_places:\n",
    "        #if isinstance(place_list, str):\n",
    "            #place_list = [place_list]  # Convert string to list\n",
    "        for place in place_list:\n",
    "            overall_place_counter[place] += 1\n",
    "\n",
    "\n",
    "sorted_source_places = source_place_counter.most_common()\n",
    "sorted_target_places = target_place_counter.most_common()\n",
    "sorted_overall_places = overall_place_counter.most_common()\n",
    "\n",
    "\n",
    "print(\"Sorted Source Places:\", sorted_source_places)\n",
    "print(\"Sorted Target Places:\", sorted_target_places)\n",
    "print(\"Sorted Overall Places:\", sorted_overall_places)"
   ]
  },
  {
   "cell_type": "code",
   "execution_count": 19,
   "id": "2a95b8d4",
   "metadata": {},
   "outputs": [
    {
     "name": "stdout",
     "output_type": "stream",
     "text": [
      "Sorted Source Places (Weighted): [('Tournai', 381), ('Paris', 364), ('Leipzig', 342), ('Bruges', 14), ('Limoges', 10), ('Lille', 7), ('Tours', 5), ('de Brouwer', 4), ('nan', 3), ('Lyon et Paris', 2), ('unknown', 2), ('Bruxelles', 2), ('Fontainebleau', 1)]\n",
      "Sorted Target Places (Weighted): [('Tournai', 370), ('Paris', 365), ('Leipzig', 344), ('Bruges', 13), ('Braine-le-Comte', 10), ('Dijon', 10), ('Lille', 7), ('de Brouwer', 4), ('Nancy', 3), ('nan', 3), ('Turnhout', 2), ('Tours', 2), ('Lyon et Paris', 2), ('Bruxelles', 2), ('Limoges', 1), ('unknown', 1), ('Fribourg', 1), ('Antony (Seine)', 1)]\n",
      "Sorted Overall Places (Weighted): [('Tournai', 751), ('Paris', 729), ('Leipzig', 686), ('Bruges', 27), ('Lille', 14), ('Limoges', 11), ('Braine-le-Comte', 10), ('Dijon', 10), ('de Brouwer', 8), ('Tours', 7), ('nan', 6), ('Lyon et Paris', 4), ('Bruxelles', 4), ('Nancy', 3), ('unknown', 3), ('Turnhout', 2), ('Fribourg', 1), ('Fontainebleau', 1), ('Antony (Seine)', 1)]\n"
     ]
    }
   ],
   "source": [
    "\n",
    "source_place_counter_weighted = Counter()\n",
    "target_place_counter_weighted = Counter()\n",
    "overall_place_counter_weighted = Counter()\n",
    "\n",
    "for publisher_A, publisher_B, data in G_1876_1900.edges(data=True):\n",
    "    # Get the weight of the current edge\n",
    "    weight = data['weight']\n",
    "    \n",
    "    if isinstance(data['source_place'], list):\n",
    "        source_places = data['source_place']\n",
    "    else:\n",
    "        source_places = [data['source_place']]\n",
    "    if isinstance(data['target_place'], list):\n",
    "        target_places = data['target_place']\n",
    "    else:\n",
    "        target_places = [data['target_place']]\n",
    "\n",
    "    for i, place_list in enumerate(source_places):\n",
    "        if isinstance(place_list, str):\n",
    "            source_places[i] = [place_list]\n",
    "\n",
    "    for i, place_list in enumerate(target_places):\n",
    "        if isinstance(place_list, str):\n",
    "            target_places[i] = [place_list]\n",
    "\n",
    "    for place_list in source_places:\n",
    "        for place in place_list:\n",
    "            # source_place_counter_weighted[place] += weight[0]\n",
    "            source_place_counter_weighted[place] += weight\n",
    "            \n",
    "    for place_list in target_places:\n",
    "        for place in place_list:\n",
    "            # target_place_counter_weighted[place] += weight[0]\n",
    "            target_place_counter_weighted[place] += weight\n",
    "\n",
    "    for place_list in source_places + target_places:\n",
    "        for place in place_list:\n",
    "            # overall_place_counter_weighted[place] += weight[0]\n",
    "            overall_place_counter_weighted[place] += weight\n",
    "\n",
    "sorted_source_places_weighted = source_place_counter_weighted.most_common()\n",
    "sorted_target_places_weighted = target_place_counter_weighted.most_common()\n",
    "sorted_overall_places_weighted = overall_place_counter_weighted.most_common()\n",
    "\n",
    "print(\"Sorted Source Places (Weighted):\", sorted_source_places_weighted)\n",
    "print(\"Sorted Target Places (Weighted):\", sorted_target_places_weighted)\n",
    "print(\"Sorted Overall Places (Weighted):\", sorted_overall_places_weighted)"
   ]
  },
  {
   "cell_type": "code",
   "execution_count": 20,
   "id": "f45b5f1e",
   "metadata": {},
   "outputs": [
    {
     "name": "stdout",
     "output_type": "stream",
     "text": [
      "Title and number of connections between places it occasioned: ('Visite au S. Sacrement et à\\xa0 la Sainte Vierge', 49) | Source Places: {'Tours', 'Tournai', 'Limoges', 'Paris'} | Target Places: {'Tournai', 'Dijon', 'Tours', 'Limoges', 'Braine-le-Comte', 'Paris'}\n",
      "Title and number of connections between places it occasioned: (\"Pratique de l'amour envers Jésus-Christ\", 6) | Source Places: {'Bruges', 'unknown'} | Target Places: {'Bruges', 'unknown', 'Turnhout'}\n",
      "Title and number of connections between places it occasioned: ('[Exercice du] Chemin de la Croix, sur le modèle des Chemins de croix Italiens', 6) | Source Places: {'Tournai'} | Target Places: {'Nancy', 'Tournai'}\n",
      "Title and number of connections between places it occasioned: ('Neuvaine au Sacré-Coeur de Jésus', 5) | Source Places: {'Tournai', 'Paris', 'Leipzig'} | Target Places: {'Tournai', 'Paris', 'Leipzig'}\n",
      "Title and number of connections between places it occasioned: ('Mater dolorosa. Les douleurs de la Sainte Vierge. Méditations, réflexions, prières', 3) | Source Places: {'Bruges'} | Target Places: {'Bruges'}\n",
      "Title and number of connections between places it occasioned: ('Saint Isidore, sainte Marie Madeleine, sainte Marguerite, sainte Christine, sainte Mère de Dieu, saint Alphonse de Liguori, saint Alph. Rodriguez, saint Camille de Lellis, saint Augustin, saint Boniface, saint Ambroise [Musique imprimée]', 3) | Source Places: {'Bruges'} | Target Places: {'Bruges'}\n",
      "Title and number of connections between places it occasioned: ('Lettre. 2e partie ; T. I. Correspondante spéciale', 3) | Source Places: {'Lille'} | Target Places: {'Lille'}\n",
      "Title and number of connections between places it occasioned: ('Réflexions sur la passion de J.-C. : suivies des réflexions sur les douleurs de la Sainte Vierge, méditations pour chaque jour de la semaine, Chemin de la Croix, etc', 3) | Source Places: {'Tournai'} | Target Places: {'Tournai'}\n",
      "Title and number of connections between places it occasioned: (\"Le livre du Saint Sacrement. I : Visites au Saint Sacrement et à la Sainte Vierge . II : Offices et Prières liturgiquesn en l'honneur du T.S. Sacrement\", 3) | Source Places: {'Tournai'} | Target Places: {'Tournai'}\n",
      "Title and number of connections between places it occasioned: ('Pratique de l\\'amour envers Jésus-Christ, tirée des paroles de S. Paul : \"Caritas patiens est, benigna est\"... par le B. Alphonse de Liguori', 3) | Source Places: {'Limoges', 'Paris'} | Target Places: {'Paris'}\n",
      "Title and number of connections between places it occasioned: ('Les plus belles prières de Saint Alphonse de Liguori : réunies dans un ordre méthodique et formant un manuel complet par le Père Saint-Omer, rédemptoriste', 3) | Source Places: {'Tournai', 'Paris', 'Leipzig'} | Target Places: {'Tournai', 'Paris', 'Leipzig'}\n",
      "Title and number of connections between places it occasioned: ('De la fréquente communion', 3) | Source Places: {'Tournai', 'Paris', 'Leipzig'} | Target Places: {'Tournai', 'Paris', 'Leipzig'}\n",
      "Title and number of connections between places it occasioned: ('La Vraie Épouse de Jésus-Christ, ou la Religieuse sanctifiée', 3) | Source Places: {'Paris', 'Lyon et Paris'} | Target Places: {'Paris', 'Lyon et Paris'}\n",
      "Title and number of connections between places it occasioned: ('Les sept douleurs de la sainte Vierge : méditations, réflexions, prières', 3) | Source Places: {'nan'} | Target Places: {'nan'}\n",
      "Title and number of connections between places it occasioned: ('Une année de méditations / par saint Alphonse de Liguori,... ; traduction nouvelle par le père Eugène Pladys,...', 1) | Source Places: {'Paris'} | Target Places: {'Paris'}\n",
      "Title and number of connections between places it occasioned: (\"Une heure d'adoration chaque mois devant le Très-Saint Sacrement, d'après St Alphonse de Liguori\", 1) | Source Places: {'Tournai'} | Target Places: {'Tournai'}\n",
      "Title and number of connections between places it occasioned: (\"L'ame sanctifiée par la méditation quetidienne d'après la doctrine et l'esprit de Saint Alphonse-Marie de Liguori docteur de l'église a l'usage de toutes les ames qui aspirent à la perfection : cinquième éditio\", 1) | Source Places: {'Tournai', 'Paris'} | Target Places: {'Tournai', 'Paris'}\n",
      "Title and number of connections between places it occasioned: (\"Vie de S. Alphonse-Marie de Liguori, docteur de l'Église. Tome Ier\", 1) | Source Places: {'Bruxelles'} | Target Places: {'Bruxelles'}\n",
      "Title and number of connections between places it occasioned: (\"Au ciel! au ciel! : Encouragements aux personnes souffrantes, d'après Saint Alphonse de Liguori\", 1) | Source Places: {'Bruges', 'Lille', 'de Brouwer'} | Target Places: {'Bruges', 'Lille', 'de Brouwer'}\n",
      "Title and number of connections between places it occasioned: ('Gloires de Marie', 1) | Source Places: {'Paris'} | Target Places: {'Fribourg'}\n",
      "Title and number of connections between places it occasioned: ('La Semaine du serviteur de Marie qui veut assurer son salut, sept prières à\\xa0 la Sainte Vierge... par saint Alphonse de Liguori...', 1) | Source Places: {'Fontainebleau'} | Target Places: {'Antony (Seine)'}\n",
      "Title and weighted number of connections between places it occasioned: ('Les plus belles prières de Saint Alphonse de Liguori : réunies dans un ordre méthodique et formant un manuel complet par le Père Saint-Omer, rédemptoriste', 315) | Source Places: {'Tournai', 'Paris', 'Leipzig'} | Target Places: {'Tournai', 'Paris', 'Leipzig'}\n",
      "Title and weighted number of connections between places it occasioned: ('Visite au S. Sacrement et à\\xa0 la Sainte Vierge', 49) | Source Places: {'Tours', 'Tournai', 'Limoges', 'Paris'} | Target Places: {'Tournai', 'Dijon', 'Tours', 'Limoges', 'Braine-le-Comte', 'Paris'}\n",
      "Title and weighted number of connections between places it occasioned: ('De la fréquente communion', 21) | Source Places: {'Tournai', 'Paris', 'Leipzig'} | Target Places: {'Tournai', 'Paris', 'Leipzig'}\n",
      "Title and weighted number of connections between places it occasioned: ('Neuvaine au Sacré-Coeur de Jésus', 8) | Source Places: {'Tournai', 'Paris', 'Leipzig'} | Target Places: {'Tournai', 'Paris', 'Leipzig'}\n",
      "Title and weighted number of connections between places it occasioned: (\"Pratique de l'amour envers Jésus-Christ\", 6) | Source Places: {'Bruges', 'unknown'} | Target Places: {'Bruges', 'unknown', 'Turnhout'}\n",
      "Title and weighted number of connections between places it occasioned: ('[Exercice du] Chemin de la Croix, sur le modèle des Chemins de croix Italiens', 6) | Source Places: {'Tournai'} | Target Places: {'Nancy', 'Tournai'}\n",
      "Title and weighted number of connections between places it occasioned: (\"Au ciel! au ciel! : Encouragements aux personnes souffrantes, d'après Saint Alphonse de Liguori\", 4) | Source Places: {'Bruges', 'Lille', 'de Brouwer'} | Target Places: {'Bruges', 'Lille', 'de Brouwer'}\n",
      "Title and weighted number of connections between places it occasioned: ('Mater dolorosa. Les douleurs de la Sainte Vierge. Méditations, réflexions, prières', 3) | Source Places: {'Bruges'} | Target Places: {'Bruges'}\n",
      "Title and weighted number of connections between places it occasioned: ('Saint Isidore, sainte Marie Madeleine, sainte Marguerite, sainte Christine, sainte Mère de Dieu, saint Alphonse de Liguori, saint Alph. Rodriguez, saint Camille de Lellis, saint Augustin, saint Boniface, saint Ambroise [Musique imprimée]', 3) | Source Places: {'Bruges'} | Target Places: {'Bruges'}\n",
      "Title and weighted number of connections between places it occasioned: ('Lettre. 2e partie ; T. I. Correspondante spéciale', 3) | Source Places: {'Lille'} | Target Places: {'Lille'}\n",
      "Title and weighted number of connections between places it occasioned: ('Réflexions sur la passion de J.-C. : suivies des réflexions sur les douleurs de la Sainte Vierge, méditations pour chaque jour de la semaine, Chemin de la Croix, etc', 3) | Source Places: {'Tournai'} | Target Places: {'Tournai'}\n",
      "Title and weighted number of connections between places it occasioned: (\"Le livre du Saint Sacrement. I : Visites au Saint Sacrement et à la Sainte Vierge . II : Offices et Prières liturgiquesn en l'honneur du T.S. Sacrement\", 3) | Source Places: {'Tournai'} | Target Places: {'Tournai'}\n",
      "Title and weighted number of connections between places it occasioned: ('Pratique de l\\'amour envers Jésus-Christ, tirée des paroles de S. Paul : \"Caritas patiens est, benigna est\"... par le B. Alphonse de Liguori', 3) | Source Places: {'Limoges', 'Paris'} | Target Places: {'Paris'}\n",
      "Title and weighted number of connections between places it occasioned: ('La Vraie Épouse de Jésus-Christ, ou la Religieuse sanctifiée', 3) | Source Places: {'Paris', 'Lyon et Paris'} | Target Places: {'Paris', 'Lyon et Paris'}\n",
      "Title and weighted number of connections between places it occasioned: (\"L'ame sanctifiée par la méditation quetidienne d'après la doctrine et l'esprit de Saint Alphonse-Marie de Liguori docteur de l'église a l'usage de toutes les ames qui aspirent à la perfection : cinquième éditio\", 3) | Source Places: {'Tournai', 'Paris'} | Target Places: {'Tournai', 'Paris'}\n",
      "Title and weighted number of connections between places it occasioned: ('Les sept douleurs de la sainte Vierge : méditations, réflexions, prières', 3) | Source Places: {'nan'} | Target Places: {'nan'}\n",
      "Title and weighted number of connections between places it occasioned: (\"Vie de S. Alphonse-Marie de Liguori, docteur de l'Église. Tome Ier\", 2) | Source Places: {'Bruxelles'} | Target Places: {'Bruxelles'}\n",
      "Title and weighted number of connections between places it occasioned: ('Une année de méditations / par saint Alphonse de Liguori,... ; traduction nouvelle par le père Eugène Pladys,...', 1) | Source Places: {'Paris'} | Target Places: {'Paris'}\n",
      "Title and weighted number of connections between places it occasioned: (\"Une heure d'adoration chaque mois devant le Très-Saint Sacrement, d'après St Alphonse de Liguori\", 1) | Source Places: {'Tournai'} | Target Places: {'Tournai'}\n",
      "Title and weighted number of connections between places it occasioned: ('Gloires de Marie', 1) | Source Places: {'Paris'} | Target Places: {'Fribourg'}\n",
      "Title and weighted number of connections between places it occasioned: ('La Semaine du serviteur de Marie qui veut assurer son salut, sept prières à\\xa0 la Sainte Vierge... par saint Alphonse de Liguori...', 1) | Source Places: {'Fontainebleau'} | Target Places: {'Antony (Seine)'}\n"
     ]
    }
   ],
   "source": [
    "\n",
    "# Initialize counters for unweighted and weighted titles\n",
    "unweighted_title_counter = Counter()\n",
    "weighted_title_counter = Counter()\n",
    "\n",
    "# Initialize dictionaries to store concatenated source and target places for each title\n",
    "title_source_places = {}\n",
    "title_target_places = {}\n",
    "\n",
    "# Iterate over edges in the graph\n",
    "for publisher_A, publisher_B, data in G_1876_1900.edges(data=True):\n",
    "    title = data['title']\n",
    "    weight = data['weight']\n",
    "    \n",
    "    # Increment the unweighted and weighted title counters\n",
    "    unweighted_title_counter[title] += 1\n",
    "    weighted_title_counter[title] += weight\n",
    "    \n",
    "    if isinstance(data['source_place'], list):\n",
    "        source_places = data['source_place']\n",
    "    else:\n",
    "        source_places = [data['source_place']]\n",
    "    if isinstance(data['target_place'], list):\n",
    "        target_places = data['target_place']\n",
    "    else:\n",
    "        target_places = [data['target_place']]\n",
    "\n",
    "    for i, place_list in enumerate(source_places):\n",
    "        if isinstance(place_list, str):\n",
    "            source_places[i] = [place_list]\n",
    "\n",
    "    for i, place_list in enumerate(target_places):\n",
    "        if isinstance(place_list, str):\n",
    "            target_places[i] = [place_list]\n",
    "    \n",
    "    if title not in title_source_places:\n",
    "                title_source_places[title] = [] \n",
    "            \n",
    "    for place_list in source_places:\n",
    "        for place in place_list:\n",
    "            title_source_places[title].append(place)\n",
    "    \n",
    "    if title not in title_target_places:\n",
    "                title_target_places[title] = [] \n",
    "            \n",
    "    for place_list in target_places:\n",
    "        for place in place_list:          \n",
    "            title_target_places[title].append(place)\n",
    "\n",
    "# Sort titles based on unweighted occurrences\n",
    "sorted_unweighted_titles = unweighted_title_counter.most_common()\n",
    "\n",
    "# Sort titles based on weighted occurrences\n",
    "sorted_weighted_titles = weighted_title_counter.most_common()\n",
    "\n",
    "for elem in sorted_unweighted_titles:\n",
    "    print(f\"Title and number of connections between places it occasioned: {elem} | Source Places: {set(title_source_places[elem[0]])} | Target Places: {set(title_target_places[elem[0]])}\")\n",
    "\n",
    "for ele in sorted_weighted_titles:\n",
    "    print(f\"Title and weighted number of connections between places it occasioned: {ele} | Source Places: {set(title_source_places[ele[0]])} | Target Places: {set(title_target_places[ele[0]])}\")"
   ]
  },
  {
   "cell_type": "code",
   "execution_count": 12,
   "id": "281189dc",
   "metadata": {},
   "outputs": [],
   "source": [
    "\n",
    "\n",
    "G_combined = nx.DiGraph()\n",
    "\n",
    "for u, v, key, attr in G_1876_1900.edges(keys=True, data=True):\n",
    "    weight = attr.get('weight', 0)  # Default to 0 if 'weight' is missing\n",
    "\n",
    "    if G_combined.has_edge(u, v):\n",
    "        G_combined[u][v]['weight'] += weight\n",
    "    else:\n",
    "        G_combined.add_edge(u, v, weight=weight)\n",
    "\n",
    "for node, data in G_1876_1900.nodes(data=True):\n",
    "    if not G_combined.has_node(node):\n",
    "        G_combined.add_node(node, **data)"
   ]
  },
  {
   "cell_type": "code",
   "execution_count": 22,
   "id": "1d1ef70c",
   "metadata": {},
   "outputs": [
    {
     "data": {
      "text/plain": [
       "43"
      ]
     },
     "execution_count": 22,
     "metadata": {},
     "output_type": "execute_result"
    }
   ],
   "source": [
    "\n",
    "len(G_combined.nodes)"
   ]
  },
  {
   "cell_type": "code",
   "execution_count": 79,
   "id": "d0d2e411",
   "metadata": {},
   "outputs": [
    {
     "data": {
      "text/plain": [
       "460"
      ]
     },
     "execution_count": 79,
     "metadata": {},
     "output_type": "execute_result"
    }
   ],
   "source": [
    "len(G_combined.edges) # out of the 471 in G_thru_1825 now collapsed into a digraph:"
   ]
  },
  {
   "cell_type": "code",
   "execution_count": 24,
   "id": "8e3b9caf",
   "metadata": {},
   "outputs": [
    {
     "data": {
      "text/plain": [
       "529"
      ]
     },
     "execution_count": 24,
     "metadata": {},
     "output_type": "execute_result"
    }
   ],
   "source": [
    "len(G_combined.edges) # out of 550 edges in G_1826_38 "
   ]
  },
  {
   "cell_type": "code",
   "execution_count": 25,
   "id": "cc53fe7f",
   "metadata": {},
   "outputs": [
    {
     "data": {
      "text/plain": [
       "257"
      ]
     },
     "execution_count": 25,
     "metadata": {},
     "output_type": "execute_result"
    }
   ],
   "source": [
    "len(G_combined.edges) # out of 272 edges in G_1839_50"
   ]
  },
  {
   "cell_type": "code",
   "execution_count": 27,
   "id": "5b08d24a",
   "metadata": {},
   "outputs": [
    {
     "data": {
      "text/plain": [
       "252"
      ]
     },
     "execution_count": 27,
     "metadata": {},
     "output_type": "execute_result"
    }
   ],
   "source": [
    "len(G_combined.edges) # out of 276 edges in G_1850_75"
   ]
  },
  {
   "cell_type": "code",
   "execution_count": 25,
   "id": "f3faf5b6",
   "metadata": {},
   "outputs": [
    {
     "data": {
      "text/plain": [
       "75"
      ]
     },
     "execution_count": 25,
     "metadata": {},
     "output_type": "execute_result"
    }
   ],
   "source": [
    "len(G_combined.edges) # out of 103 edges in G_1876_1900"
   ]
  },
  {
   "cell_type": "code",
   "execution_count": 30,
   "id": "325df870",
   "metadata": {},
   "outputs": [],
   "source": [
    "\n",
    "closeness_centralities = nx.closeness_centrality(G_combined)\n",
    "\n",
    "betweenness_centralities = nx.betweenness_centrality(G_combined)"
   ]
  },
  {
   "cell_type": "code",
   "execution_count": 31,
   "id": "a73a0a02",
   "metadata": {},
   "outputs": [],
   "source": [
    "\n",
    "eigenvector_centralities = nx.eigenvector_centrality(G_combined)"
   ]
  },
  {
   "cell_type": "code",
   "execution_count": 85,
   "id": "1677f9b4",
   "metadata": {},
   "outputs": [],
   "source": [
    "# eigenvector_centralities = nx.eigenvector_centrality(G_combined, max_iter = 500)"
   ]
  },
  {
   "cell_type": "code",
   "execution_count": 32,
   "id": "8a919b3b",
   "metadata": {},
   "outputs": [],
   "source": [
    "import operator"
   ]
  },
  {
   "cell_type": "code",
   "execution_count": 33,
   "id": "5e35aaa9",
   "metadata": {},
   "outputs": [],
   "source": [
    "\n",
    "sorted_closeness = sorted(closeness_centralities.items(), key=operator.itemgetter(1), reverse=True)\n",
    "sorted_betweenness = sorted(betweenness_centralities.items(), key=operator.itemgetter(1), reverse=True)\n",
    "sorted_eigenvector = sorted(eigenvector_centralities.items(), key=operator.itemgetter(1), reverse=True)"
   ]
  },
  {
   "cell_type": "code",
   "execution_count": 34,
   "id": "a6f44076",
   "metadata": {},
   "outputs": [
    {
     "data": {
      "text/plain": [
       "[('zech', 0.23669467787114845),\n",
       " ('maitre', 0.23669467787114845),\n",
       " ('desclee', 0.1523809523809524),\n",
       " ('lefebvre', 0.14835164835164835),\n",
       " ('mame', 0.14583333333333331),\n",
       " ('tablissements de brepols', 0.1134453781512605),\n",
       " ('saintaugustin', 0.10158730158730157),\n",
       " ('de brouwer', 0.10158730158730157),\n",
       " ('gaume', 0.0761904761904762),\n",
       " ('kittler', 0.0744047619047619),\n",
       " ('le chevallier', 0.07142857142857142),\n",
       " ('librairie de loeuvre de saintpaul', 0.06613756613756613),\n",
       " ('rittler', 0.06613756613756613),\n",
       " ('librairie internationale catholique', 0.06349206349206349),\n",
       " ('saintpaul', 0.05714285714285714),\n",
       " ('leday', 0.047619047619047616),\n",
       " ('cattier', 0.047619047619047616),\n",
       " ('lefevbre', 0.047619047619047616),\n",
       " ('briguet', 0.047619047619047616),\n",
       " (nan, 0.031746031746031744),\n",
       " ('lecoffre', 0.031746031746031744),\n",
       " ('pontificaux', 0.031746031746031744),\n",
       " ('barbou', 0.023809523809523808),\n",
       " ('descleee', 0.023809523809523808),\n",
       " ('casterman', 0.023809523809523808),\n",
       " ('aux bureaux de la sainte famille', 0.023809523809523808),\n",
       " ('jean evang', 0.0),\n",
       " ('bray', 0.0),\n",
       " ('delhomme', 0.0),\n",
       " ('lethielleux', 0.0),\n",
       " ('pouy', 0.0),\n",
       " ('mersch', 0.0),\n",
       " ('prunet', 0.0),\n",
       " ('ardant', 0.0),\n",
       " ('maison des pères rédemptoristes', 0.0),\n",
       " ('vivs', 0.0),\n",
       " ('poussielgue', 0.0),\n",
       " ('demers', 0.0),\n",
       " ('douniol', 0.0),\n",
       " ('decallonneliagre', 0.0),\n",
       " ('bellet', 0.0),\n",
       " ('beauchesne', 0.0),\n",
       " ('bourguetcalas', 0.0)]"
      ]
     },
     "execution_count": 34,
     "metadata": {},
     "output_type": "execute_result"
    }
   ],
   "source": [
    "sorted_closeness"
   ]
  },
  {
   "cell_type": "code",
   "execution_count": 35,
   "id": "95658a82",
   "metadata": {},
   "outputs": [
    {
     "data": {
      "text/plain": [
       "[('desclee', 0.013937282229965157),\n",
       " ('casterman', 0.009291521486643438),\n",
       " ('librairie internationale catholique', 0.004645760743321719),\n",
       " ('saintaugustin', 0.0029036004645760743),\n",
       " ('barbou', 0.0029036004645760743),\n",
       " ('librairie de loeuvre de saintpaul', 0.0029036004645760743),\n",
       " ('tablissements de brepols', 0.0),\n",
       " ('de brouwer', 0.0),\n",
       " ('jean evang', 0.0),\n",
       " ('leday', 0.0),\n",
       " ('cattier', 0.0),\n",
       " ('gaume', 0.0),\n",
       " ('lefebvre', 0.0),\n",
       " ('le chevallier', 0.0),\n",
       " ('mame', 0.0),\n",
       " ('zech', 0.0),\n",
       " ('maitre', 0.0),\n",
       " ('descleee', 0.0),\n",
       " ('lefevbre', 0.0),\n",
       " ('rittler', 0.0),\n",
       " ('kittler', 0.0),\n",
       " ('bray', 0.0),\n",
       " ('delhomme', 0.0),\n",
       " ('briguet', 0.0),\n",
       " (nan, 0.0),\n",
       " ('lecoffre', 0.0),\n",
       " ('pontificaux', 0.0),\n",
       " ('lethielleux', 0.0),\n",
       " ('saintpaul', 0.0),\n",
       " ('pouy', 0.0),\n",
       " ('aux bureaux de la sainte famille', 0.0),\n",
       " ('mersch', 0.0),\n",
       " ('prunet', 0.0),\n",
       " ('ardant', 0.0),\n",
       " ('maison des pères rédemptoristes', 0.0),\n",
       " ('vivs', 0.0),\n",
       " ('poussielgue', 0.0),\n",
       " ('demers', 0.0),\n",
       " ('douniol', 0.0),\n",
       " ('decallonneliagre', 0.0),\n",
       " ('bellet', 0.0),\n",
       " ('beauchesne', 0.0),\n",
       " ('bourguetcalas', 0.0)]"
      ]
     },
     "execution_count": 35,
     "metadata": {},
     "output_type": "execute_result"
    }
   ],
   "source": [
    "\n",
    "sorted_betweenness "
   ]
  },
  {
   "cell_type": "code",
   "execution_count": 36,
   "id": "871f706b",
   "metadata": {},
   "outputs": [
    {
     "data": {
      "text/plain": [
       "[('saintaugustin', 0.4827008997256514),\n",
       " ('tablissements de brepols', 0.4827008997256514),\n",
       " ('de brouwer', 0.4827008997256514),\n",
       " ('zech', 0.29833432830775347),\n",
       " ('maitre', 0.29833432830775347),\n",
       " ('desclee', 0.29832565329065025),\n",
       " ('lefebvre', 0.18437620753304995),\n",
       " ('saintpaul', 1.494074044466134e-06),\n",
       " ('mame', 6.163292017227664e-07),\n",
       " ('kittler', 2.907141794147431e-07),\n",
       " ('librairie de loeuvre de saintpaul', 2.890486294285128e-07),\n",
       " ('rittler', 2.890486294285127e-07),\n",
       " ('le chevallier', 1.7412568037862212e-07),\n",
       " ('gaume', 4.004890648708308e-08),\n",
       " ('librairie internationale catholique', 3.838335650085279e-08),\n",
       " ('leday', 2.0895081645434654e-08),\n",
       " ('cattier', 2.0895081645434654e-08),\n",
       " ('lefevbre', 2.0895081645434654e-08),\n",
       " (nan, 1.9229531659204354e-08),\n",
       " ('lecoffre', 1.9229531659204354e-08),\n",
       " ('pontificaux', 1.9229531659204354e-08),\n",
       " ('briguet', 3.4068067900165197e-09),\n",
       " ('barbou', 1.741256803786221e-09),\n",
       " ('descleee', 1.741256803786221e-09),\n",
       " ('casterman', 1.741256803786221e-09),\n",
       " ('aux bureaux de la sainte famille', 1.741256803786221e-09),\n",
       " ('jean evang', 7.570681755592266e-11),\n",
       " ('bray', 7.570681755592266e-11),\n",
       " ('delhomme', 7.570681755592266e-11),\n",
       " ('lethielleux', 7.570681755592266e-11),\n",
       " ('pouy', 7.570681755592266e-11),\n",
       " ('mersch', 7.570681755592266e-11),\n",
       " ('prunet', 7.570681755592266e-11),\n",
       " ('ardant', 7.570681755592266e-11),\n",
       " ('maison des pères rédemptoristes', 7.570681755592266e-11),\n",
       " ('vivs', 7.570681755592266e-11),\n",
       " ('poussielgue', 7.570681755592266e-11),\n",
       " ('demers', 7.570681755592266e-11),\n",
       " ('douniol', 7.570681755592266e-11),\n",
       " ('decallonneliagre', 7.570681755592266e-11),\n",
       " ('bellet', 7.570681755592266e-11),\n",
       " ('beauchesne', 7.570681755592266e-11),\n",
       " ('bourguetcalas', 7.570681755592266e-11)]"
      ]
     },
     "execution_count": 36,
     "metadata": {},
     "output_type": "execute_result"
    }
   ],
   "source": [
    "sorted_eigenvector"
   ]
  },
  {
   "cell_type": "code",
   "execution_count": 37,
   "id": "02d06b14",
   "metadata": {},
   "outputs": [],
   "source": [
    "\n",
    "weighted_closeness = nx.closeness_centrality(G_combined, distance='weight')\n",
    "weighted_betweenness = nx.betweenness_centrality(G_combined, weight='weight')\n",
    "weighted_eigenvector = nx.eigenvector_centrality(G_combined, max_iter = 500, weight='weight')\n",
    "\n",
    "sorted_weighted_closeness = sorted(weighted_closeness.items(), key=lambda x: x[1], reverse=True)\n",
    "sorted_weighted_betweenness = sorted(weighted_betweenness.items(), key=lambda x: x[1], reverse=True)\n",
    "sorted_weighted_eigenvector = sorted(weighted_eigenvector.items(), key=lambda x: x[1], reverse=True)"
   ]
  },
  {
   "cell_type": "code",
   "execution_count": 38,
   "id": "d4167142",
   "metadata": {},
   "outputs": [
    {
     "data": {
      "text/plain": [
       "[('zech', 0.17494824016563146),\n",
       " ('maitre', 0.17494824016563146),\n",
       " ('mame', 0.12962962962962962),\n",
       " ('tablissements de brepols', 0.10714285714285714),\n",
       " ('desclee', 0.08963585434173668),\n",
       " ('gaume', 0.0761904761904762),\n",
       " ('lefebvre', 0.07417582417582418),\n",
       " ('le chevallier', 0.07142857142857142),\n",
       " ('leday', 0.047619047619047616),\n",
       " ('cattier', 0.047619047619047616),\n",
       " ('lefevbre', 0.047619047619047616),\n",
       " ('saintaugustin', 0.03463203463203463),\n",
       " (nan, 0.031746031746031744),\n",
       " ('lecoffre', 0.031746031746031744),\n",
       " ('barbou', 0.023809523809523808),\n",
       " ('descleee', 0.023809523809523808),\n",
       " ('casterman', 0.023809523809523808),\n",
       " ('briguet', 0.023809523809523808),\n",
       " ('aux bureaux de la sainte famille', 0.023809523809523808),\n",
       " ('de brouwer', 0.02240896358543417),\n",
       " ('kittler', 0.01488095238095238),\n",
       " ('pontificaux', 0.013605442176870746),\n",
       " ('saintpaul', 0.003556609365737996),\n",
       " ('librairie de loeuvre de saintpaul', 0.002532928064842958),\n",
       " ('librairie internationale catholique', 0.0016420361247947454),\n",
       " ('rittler', 0.0011252137906202179),\n",
       " ('jean evang', 0.0),\n",
       " ('bray', 0.0),\n",
       " ('delhomme', 0.0),\n",
       " ('lethielleux', 0.0),\n",
       " ('pouy', 0.0),\n",
       " ('mersch', 0.0),\n",
       " ('prunet', 0.0),\n",
       " ('ardant', 0.0),\n",
       " ('maison des pères rédemptoristes', 0.0),\n",
       " ('vivs', 0.0),\n",
       " ('poussielgue', 0.0),\n",
       " ('demers', 0.0),\n",
       " ('douniol', 0.0),\n",
       " ('decallonneliagre', 0.0),\n",
       " ('bellet', 0.0),\n",
       " ('beauchesne', 0.0),\n",
       " ('bourguetcalas', 0.0)]"
      ]
     },
     "execution_count": 38,
     "metadata": {},
     "output_type": "execute_result"
    }
   ],
   "source": [
    "\n",
    "sorted_weighted_closeness"
   ]
  },
  {
   "cell_type": "code",
   "execution_count": 39,
   "id": "3bbb247f",
   "metadata": {},
   "outputs": [
    {
     "data": {
      "text/plain": [
       "[('desclee', 0.013937282229965157),\n",
       " ('casterman', 0.009291521486643438),\n",
       " ('librairie internationale catholique', 0.004645760743321719),\n",
       " ('barbou', 0.003871467286101432),\n",
       " ('saintaugustin', 0.0029036004645760743),\n",
       " ('librairie de loeuvre de saintpaul', 0.0029036004645760743),\n",
       " ('cattier', 0.000967866821525358),\n",
       " ('gaume', 0.000967866821525358),\n",
       " ('tablissements de brepols', 0.0),\n",
       " ('de brouwer', 0.0),\n",
       " ('jean evang', 0.0),\n",
       " ('leday', 0.0),\n",
       " ('lefebvre', 0.0),\n",
       " ('le chevallier', 0.0),\n",
       " ('mame', 0.0),\n",
       " ('zech', 0.0),\n",
       " ('maitre', 0.0),\n",
       " ('descleee', 0.0),\n",
       " ('lefevbre', 0.0),\n",
       " ('rittler', 0.0),\n",
       " ('kittler', 0.0),\n",
       " ('bray', 0.0),\n",
       " ('delhomme', 0.0),\n",
       " ('briguet', 0.0),\n",
       " (nan, 0.0),\n",
       " ('lecoffre', 0.0),\n",
       " ('pontificaux', 0.0),\n",
       " ('lethielleux', 0.0),\n",
       " ('saintpaul', 0.0),\n",
       " ('pouy', 0.0),\n",
       " ('aux bureaux de la sainte famille', 0.0),\n",
       " ('mersch', 0.0),\n",
       " ('prunet', 0.0),\n",
       " ('ardant', 0.0),\n",
       " ('maison des pères rédemptoristes', 0.0),\n",
       " ('vivs', 0.0),\n",
       " ('poussielgue', 0.0),\n",
       " ('demers', 0.0),\n",
       " ('douniol', 0.0),\n",
       " ('decallonneliagre', 0.0),\n",
       " ('bellet', 0.0),\n",
       " ('beauchesne', 0.0),\n",
       " ('bourguetcalas', 0.0)]"
      ]
     },
     "execution_count": 39,
     "metadata": {},
     "output_type": "execute_result"
    }
   ],
   "source": [
    "\n",
    "sorted_weighted_betweenness"
   ]
  },
  {
   "cell_type": "code",
   "execution_count": 40,
   "id": "6f163f4f",
   "metadata": {},
   "outputs": [
    {
     "data": {
      "text/plain": [
       "[('de brouwer', 0.7958032709454589),\n",
       " ('saintaugustin', 0.44116912002266345),\n",
       " ('desclee', 0.32296127593958796),\n",
       " ('lefebvre', 0.17731574859522647),\n",
       " ('tablissements de brepols', 0.13984556831821202),\n",
       " ('zech', 0.09155686226382392),\n",
       " ('maitre', 0.09155686226382392),\n",
       " ('rittler', 1.0386175804211534e-06),\n",
       " ('kittler', 8.90268032963723e-08),\n",
       " ('saintpaul', 3.21848131091067e-08),\n",
       " ('librairie de loeuvre de saintpaul', 9.891747819132731e-09),\n",
       " ('librairie internationale catholique', 2.1153466538343063e-09),\n",
       " ('mame', 5.097922593038841e-10),\n",
       " ('le chevallier', 1.2507230414671359e-10),\n",
       " ('pontificaux', 5.533223259431815e-11),\n",
       " ('gaume', 3.923836992838074e-11),\n",
       " ('leday', 2.084538402445227e-11),\n",
       " ('cattier', 2.084538402445227e-11),\n",
       " ('lefevbre', 2.084538402445227e-11),\n",
       " (nan, 1.854626078646121e-11),\n",
       " ('lecoffre', 1.854626078646121e-11),\n",
       " ('briguet', 9.34976783449697e-12),\n",
       " ('barbou', 2.452398120523796e-12),\n",
       " ('descleee', 2.452398120523796e-12),\n",
       " ('casterman', 2.452398120523796e-12),\n",
       " ('aux bureaux de la sainte famille', 2.452398120523796e-12),\n",
       " ('jean evang', 1.5327488253273719e-13),\n",
       " ('bray', 1.5327488253273719e-13),\n",
       " ('delhomme', 1.5327488253273719e-13),\n",
       " ('lethielleux', 1.5327488253273719e-13),\n",
       " ('pouy', 1.5327488253273719e-13),\n",
       " ('mersch', 1.5327488253273719e-13),\n",
       " ('prunet', 1.5327488253273719e-13),\n",
       " ('ardant', 1.5327488253273719e-13),\n",
       " ('maison des pères rédemptoristes', 1.5327488253273719e-13),\n",
       " ('vivs', 1.5327488253273719e-13),\n",
       " ('poussielgue', 1.5327488253273719e-13),\n",
       " ('demers', 1.5327488253273719e-13),\n",
       " ('douniol', 1.5327488253273719e-13),\n",
       " ('decallonneliagre', 1.5327488253273719e-13),\n",
       " ('bellet', 1.5327488253273719e-13),\n",
       " ('beauchesne', 1.5327488253273719e-13),\n",
       " ('bourguetcalas', 1.5327488253273719e-13)]"
      ]
     },
     "execution_count": 40,
     "metadata": {},
     "output_type": "execute_result"
    }
   ],
   "source": [
    "sorted_weighted_eigenvector "
   ]
  },
  {
   "cell_type": "code",
   "execution_count": null,
   "id": "ae81b148",
   "metadata": {},
   "outputs": [],
   "source": []
  },
  {
   "cell_type": "code",
   "execution_count": 10,
   "id": "6271c5b3-ded8-4145-b2f0-a0a5462068b1",
   "metadata": {},
   "outputs": [],
   "source": [
    "import matplotlib.pyplot as plt\n",
    "import numpy as np"
   ]
  },
  {
   "cell_type": "code",
   "execution_count": 13,
   "id": "544f4e86-159b-4964-b7a0-bd4d341d2d62",
   "metadata": {},
   "outputs": [
    {
     "data": {
      "image/png": "[encoded data removed]",
      "text/plain": [
       "<Figure size 1500x1000 with 1 Axes>"
      ]
     },
     "metadata": {},
     "output_type": "display_data"
    }
   ],
   "source": [
    "\n",
    "fig, ax = plt.subplots(figsize=(15, 10))\n",
    "\n",
    "node_sizes = [G_combined.nodes[node].get('magnitude', 1) for node in G_combined.nodes()]\n",
    "\n",
    "# Scale node sizes for better visualization (adjust scaling factor as needed)\n",
    "node_sizes = [size * 36 for size in node_sizes]\n",
    "\n",
    "pos = nx.spring_layout(G_combined)\n",
    "\n",
    "edge_widths = [np.log(data['weight'] + 1) for _, _, data in G_combined.edges(data=True)]\n",
    "#edge_widths = [data['weight'] for _, _, data in G_combined.edges(data=True)]\n",
    "\n",
    "nx.draw_networkx(G_combined, pos, node_size=node_sizes, with_labels=True,\n",
    "        alpha=1, node_color='skyblue', width=edge_widths, edge_color='gray', arrows=True)\n",
    "\n",
    "plt.title(\"Pietra 1876-1900 Liguori French Translation Network with Node Magnitudes\")\n",
    "\n",
    "plt.savefig('PIETRA_Margento_19th_Cent_Liguori_1876-1900_FR_w_Node_Magnitudes.png')\n",
    "\n",
    "plt.show()"
   ]
  },
  {
   "cell_type": "code",
   "execution_count": null,
   "id": "8316cfd5-bd72-4551-921a-608b91cbd5de",
   "metadata": {},
   "outputs": [],
   "source": []
  }
 ],
 "metadata": {
  "kernelspec": {
   "display_name": "Python 3 (ipykernel)",
   "language": "python",
   "name": "python3"
  },
  "language_info": {
   "codemirror_mode": {
    "name": "ipython",
    "version": 3
   },
   "file_extension": ".py",
   "mimetype": "text/x-python",
   "name": "python",
   "nbconvert_exporter": "python",
   "pygments_lexer": "ipython3",
   "version": "3.10.9"
  }
 },
 "nbformat": 4,
 "nbformat_minor": 5
}
